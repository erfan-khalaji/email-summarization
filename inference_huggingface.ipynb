{
 "cells": [
  {
   "cell_type": "code",
   "id": "initial_id",
   "metadata": {
    "collapsed": true
   },
   "source": [
    "# **Email Summarization Project using T5 and Hugging Face APIs**\n",
    "# Run this notebook on Google Colab\n",
    "\n",
    "# --- SECTION 1: Install Dependencies ---\n",
    "!pip install torch transformers gradio\n",
    "\n",
    "# --- SECTION 2: Import Libraries ---\n",
    "from transformers import AutoModelForSeq2SeqLM, AutoTokenizer, pipeline\n",
    "import gradio as gr\n",
    "\n",
    "# --- SECTION 3: Create a Made-up Email ---\n",
    "\n",
    "# Here's a fictional email we'll summarize\n",
    "email_text = \"\"\"\n",
    "Dear Team,\n",
    "\n",
    "I hope this email finds you well. I wanted to inform you that we have completed the latest round of updates for the project. The key changes include:\n",
    "- Improved user interface design\n",
    "- Optimized loading times for the application\n",
    "- Bug fixes in the authentication module\n",
    "- Integration of new payment gateway options\n",
    "\n",
    "Please make sure to test these features in the staging environment and let us know if you encounter any issues. We are aiming for a full deployment by the end of the month, so time is of the essence.\n",
    "\n",
    "Additionally, I would appreciate it if you could prepare a brief report outlining the progress for the next meeting.\n",
    "\n",
    "Best regards,\n",
    "John Doe\n",
    "\"\"\"\n",
    "\n",
    "# --- SECTION 4: Load T5 Model and Tokenizer ---\n",
    "\n",
    "# Use the pre-trained T5 model from Hugging Face\n",
    "model_name = 't5-small'  # You can also try 't5-base' or 't5-large' depending on your needs\n",
    "model = AutoModelForSeq2SeqLM.from_pretrained(model_name)\n",
    "tokenizer = AutoTokenizer.from_pretrained(model_name)\n",
    "\n",
    "# --- SECTION 5: Define Summarization Pipeline ---\n",
    "\n",
    "summarizer = pipeline(\"summarization\", model=model, tokenizer=tokenizer)\n",
    "\n",
    "# Function to summarize email\n",
    "def summarize_email(email_text):\n",
    "    summary = summarizer(email_text, max_length=150, min_length=40, do_sample=False)\n",
    "    return summary[0]['summary_text']\n",
    "\n",
    "# Summarize the made-up email\n",
    "summary = summarize_email(email_text)\n",
    "print(\"Original Email: \\n\", email_text)\n",
    "print(\"\\nGenerated Summary: \\n\", summary)\n",
    "\n",
    "# --- SECTION 6: Gradio App for Interactive Summarization ---\n",
    "\n",
    "def summarize(email_text):\n",
    "    return summarize_email(email_text)\n",
    "\n",
    "gr.Interface(fn=summarize, inputs=\"text\", outputs=\"text\", title=\"Email Summarizer\").launch()"
   ],
   "outputs": [],
   "execution_count": null
  },
  {
   "metadata": {},
   "cell_type": "code",
   "source": "",
   "id": "517ac09fd809d8a",
   "outputs": [],
   "execution_count": null
  }
 ],
 "metadata": {
  "kernelspec": {
   "display_name": "Python 3",
   "language": "python",
   "name": "python3"
  },
  "language_info": {
   "codemirror_mode": {
    "name": "ipython",
    "version": 2
   },
   "file_extension": ".py",
   "mimetype": "text/x-python",
   "name": "python",
   "nbconvert_exporter": "python",
   "pygments_lexer": "ipython2",
   "version": "2.7.6"
  }
 },
 "nbformat": 4,
 "nbformat_minor": 5
}
